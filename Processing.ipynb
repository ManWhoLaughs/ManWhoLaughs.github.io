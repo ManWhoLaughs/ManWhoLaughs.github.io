{
 "cells": [
  {
   "cell_type": "code",
   "execution_count": 1,
   "metadata": {},
   "outputs": [],
   "source": [
    "import numpy as np\n",
    "import pandas as pd\n",
    "import matplotlib.pyplot as plt\n",
    "import os\n",
    "path = 'C:/Users/Vladimir/Desktop/data'\n",
    "objs = os.walk(path)\n",
    "names = []\n",
    "for d in objs:\n",
    "    for f in d:\n",
    "        if len(f) > 1:\n",
    "            names = f"
   ]
  },
  {
   "cell_type": "code",
   "execution_count": 2,
   "metadata": {},
   "outputs": [
    {
     "name": "stdout",
     "output_type": "stream",
     "text": [
      "13\n"
     ]
    }
   ],
   "source": [
    "def isfloat(value):\n",
    "    for i in range(len(value)):\n",
    "        if (not value[i].isnumeric() and value[i] != ',' and value[i] != '.'):\n",
    "            return False\n",
    "    return True\n",
    "data = []\n",
    "parameter = []\n",
    "Country_name = \"\"\n",
    "Country_information = []\n",
    "cntrs = []\n",
    "for name in names:\n",
    "    file = open(path+'/'+name, 'r')\n",
    "    st = [1,2]\n",
    "    parameter.append(name[:len(name)-4])\n",
    "    while (len(st) > 1):\n",
    "        st = file.readline().split()\n",
    "        if (len(st) > 1):\n",
    "            i = 0;\n",
    "            while (st[i] != 'None' and not isfloat(st[i])):\n",
    "                Country_name += st[i]+' '\n",
    "                i += 1\n",
    "            Country_name = Country_name[:-1]\n",
    "            Country_information.append(Country_name)\n",
    "            while (i < len(st)):\n",
    "                if (st[i]  == 'None'):\n",
    "                    Country_information.append(st[i])\n",
    "                else:\n",
    "                    st[i] = st[i].replace(',','')\n",
    "                    Country_information.append(float(st[i]))\n",
    "                i += 1\n",
    "            i = 0\n",
    "            cntrs.append(np.array(Country_information))\n",
    "        Country_information.clear()\n",
    "        Country_name = \"\"\n",
    "    parameter.append(np.array(cntrs))\n",
    "    cntrs = []\n",
    "    data.append(parameter)\n",
    "    parameter = []\n",
    "data.pop()\n",
    "print(len(data))"
   ]
  },
  {
   "cell_type": "code",
   "execution_count": 3,
   "metadata": {},
   "outputs": [
    {
     "name": "stdout",
     "output_type": "stream",
     "text": [
      "['Burglary and housebraking rate', 'Burglary and housebraking', 'Burglary rate', 'Burglary', 'Homicide rate', 'Homicide', 'Kidnapping rate', 'Kidnapping', 'Private cars theft rate', 'Private cars theft', 'Rape rate', 'Rape', 'Robbery rate', 'Robbery']\n"
     ]
    }
   ],
   "source": [
    "for i in range(len(names)):\n",
    "    names[i] = names[i][:-4]\n",
    "print(names)"
   ]
  },
  {
   "cell_type": "code",
   "execution_count": 4,
   "metadata": {},
   "outputs": [
    {
     "name": "stdout",
     "output_type": "stream",
     "text": [
      "{'Burglary and housebraking rate': 0.25, 'Burglary rate': 0.25, 'Homicide rate': 12, 'Kidnapping rate': 15, 'Private cars theft rate': 1, 'Rape rate': 10, 'Robbery rate': 7}\n"
     ]
    }
   ],
   "source": [
    "coeffs = { names[0] : 0.25, names[2] : 0.25, names[4] : 12, names[6] : 15, names[8] : 1, names[10] : 10, names[12] : 7}\n",
    "print(coeffs)"
   ]
  },
  {
   "cell_type": "code",
   "execution_count": 5,
   "metadata": {},
   "outputs": [],
   "source": [
    "def av(arr):\n",
    "    result = 0\n",
    "    err_cnt = 0\n",
    "    for elem in arr:\n",
    "        if elem == 'None':\n",
    "            err_cnt += 1\n",
    "        else:\n",
    "            result += float(elem)\n",
    "    if (err_cnt > 5):\n",
    "        return -1\n",
    "    else:\n",
    "        result /= (len(arr) - err_cnt)\n",
    "        return result\n",
    "def ac(arr):\n",
    "    n = len(arr)\n",
    "    if (arr[n-1] == 'None' or arr[n-2] == 'None' or arr[n-3] == 'None'):\n",
    "        return 0\n",
    "    a = float(arr[n-1])\n",
    "    b = float(arr[n-2])\n",
    "    c = float(arr[n-3])\n",
    "    eps = (a + b + c)/100\n",
    "    if (a < b < c):\n",
    "        return 1\n",
    "    elif (a > b - eps > c - eps):\n",
    "        return -1\n",
    "    else:\n",
    "        return 0"
   ]
  },
  {
   "cell_type": "code",
   "execution_count": 6,
   "metadata": {},
   "outputs": [
    {
     "name": "stdout",
     "output_type": "stream",
     "text": [
      "4\n"
     ]
    }
   ],
   "source": [
    "rating = {}\n",
    "velocity = {}\n",
    "for spec in data:\n",
    "    if (spec[0].find('rate') != -1):\n",
    "        for country in spec[1]:\n",
    "\n",
    "            if (velocity.get(country[0]) == None):\n",
    "                velocity[country[0]] = ac(country[1:])\n",
    "            else:\n",
    "                velocity[country[0]] += ac(country[1:])\n",
    "\n",
    "            if (rating.get(country[0]) == None):\n",
    "                val = av(country[1:])\n",
    "                if (val != -1):\n",
    "                    rating[country[0]] = val * coeffs[spec[0]]\n",
    "                else:\n",
    "                    if (coeffs[spec[0]] <= 7):\n",
    "                        rating[country[0]] = 0\n",
    "                    else:\n",
    "                        rating[country[0]] = -1\n",
    "            elif (rating[country[0]] != -1):\n",
    "                val = av(country[1:])\n",
    "                if (val != -1):\n",
    "                    rating[country[0]] += val * coeffs[spec[0]]\n",
    "                else:\n",
    "                    rating[country[0]] = -1\n",
    "print(velocity['United States of America'])"
   ]
  },
  {
   "cell_type": "code",
   "execution_count": 7,
   "metadata": {},
   "outputs": [],
   "source": [
    "import geojson\n",
    "file = open('map.geojson', 'r+')\n",
    "mapping = geojson.load(file)"
   ]
  },
  {
   "cell_type": "code",
   "execution_count": 8,
   "metadata": {},
   "outputs": [],
   "source": [
    "for a in mapping['features']:\n",
    "    abr = a['properties']['adm0_a3']\n",
    "    name = a['properties']['name_long']\n",
    "    a['properties'].clear()\n",
    "    a['properties']['Abbreviation'] = abr\n",
    "    a['properties']['Name'] = name\n",
    "    if (rating.get(name) != None):\n",
    "        a['properties']['Crime rating'] = int(rating[name])\n",
    "        if (rating[name] < 0):\n",
    "            a['properties']['Qonqlusion'] = 'None'\n",
    "        elif (rating[name] < 500):\n",
    "            a['properties']['Qonqlusion'] = 'Very good'\n",
    "        elif (rating[name] < 900):\n",
    "            a['properties']['Qonqlusion'] = 'Good'\n",
    "        elif (rating[name] < 1500):\n",
    "            a['properties']['Qonqlusion'] = 'Normal'\n",
    "        elif (rating[name] < 2000):\n",
    "            a['properties']['Qonqlusion'] = 'Increased'\n",
    "        elif (rating[name] < 3000):\n",
    "            a['properties']['Qonqlusion'] = 'High'\n",
    "        elif (rating[name] < 4000):\n",
    "            a['properties']['Qonqlusion'] = 'Very high'\n",
    "        else:\n",
    "            a['properties']['Qonqlusion'] = 'Deadly'\n",
    "        if (velocity[name] > 1):\n",
    "            a['properties']['Dynamic'] = \"Improving \" + \"(+\" + str(velocity[name]) + \")\"\n",
    "        elif (velocity[name] >= -1):\n",
    "            a['properties']['Dynamic'] = \"Stable\"\n",
    "        else:\n",
    "            a['properties']['Dynamic'] = \"Worsening \" + \"(\" + str(velocity[name]) + \")\"\n",
    "    else:\n",
    "        a['properties']['Crime rating'] = -1\n",
    "        a['properties']['Qonqlusion'] = 'None'\n",
    "        a['properties']['Dynamic'] = 0"
   ]
  },
  {
   "cell_type": "code",
   "execution_count": 9,
   "metadata": {},
   "outputs": [],
   "source": [
    "###Output\n"
   ]
  },
  {
   "cell_type": "code",
   "execution_count": null,
   "metadata": {},
   "outputs": [],
   "source": []
  }
 ],
 "metadata": {
  "kernelspec": {
   "display_name": "Python 3",
   "language": "python",
   "name": "python3"
  },
  "language_info": {
   "codemirror_mode": {
    "name": "ipython",
    "version": 3
   },
   "file_extension": ".py",
   "mimetype": "text/x-python",
   "name": "python",
   "nbconvert_exporter": "python",
   "pygments_lexer": "ipython3",
   "version": "3.6.4"
  }
 },
 "nbformat": 4,
 "nbformat_minor": 2
}
